{
 "cells": [
  {
   "cell_type": "code",
   "execution_count": 12,
   "metadata": {},
   "outputs": [
    {
     "data": {
      "text/html": [
       "<div>\n",
       "<style scoped>\n",
       "    .dataframe tbody tr th:only-of-type {\n",
       "        vertical-align: middle;\n",
       "    }\n",
       "\n",
       "    .dataframe tbody tr th {\n",
       "        vertical-align: top;\n",
       "    }\n",
       "\n",
       "    .dataframe thead th {\n",
       "        text-align: right;\n",
       "    }\n",
       "</style>\n",
       "<table border=\"1\" class=\"dataframe\">\n",
       "  <thead>\n",
       "    <tr style=\"text-align: right;\">\n",
       "      <th></th>\n",
       "      <th>STATION,STATION_NAME,DATE,PRCP,SNWD,SNOW,TMAX,TMIN,AWND,WDF2,WDF5,WSF2,WSF5,WT01,WT05,WT02,WT03</th>\n",
       "    </tr>\n",
       "  </thead>\n",
       "  <tbody>\n",
       "    <tr>\n",
       "      <th>0</th>\n",
       "      <td>GHCND:USW00024233,SEATTLE TACOMA INTERNATIONAL...</td>\n",
       "    </tr>\n",
       "    <tr>\n",
       "      <th>1</th>\n",
       "      <td>GHCND:USW00024233,SEATTLE TACOMA INTERNATIONAL...</td>\n",
       "    </tr>\n",
       "    <tr>\n",
       "      <th>2</th>\n",
       "      <td>GHCND:USW00024233,SEATTLE TACOMA INTERNATIONAL...</td>\n",
       "    </tr>\n",
       "    <tr>\n",
       "      <th>3</th>\n",
       "      <td>GHCND:USW00024233,SEATTLE TACOMA INTERNATIONAL...</td>\n",
       "    </tr>\n",
       "    <tr>\n",
       "      <th>4</th>\n",
       "      <td>GHCND:USW00024233,SEATTLE TACOMA INTERNATIONAL...</td>\n",
       "    </tr>\n",
       "    <tr>\n",
       "      <th>5</th>\n",
       "      <td>GHCND:USW00024233,SEATTLE TACOMA INTERNATIONAL...</td>\n",
       "    </tr>\n",
       "    <tr>\n",
       "      <th>6</th>\n",
       "      <td>GHCND:USW00024233,SEATTLE TACOMA INTERNATIONAL...</td>\n",
       "    </tr>\n",
       "    <tr>\n",
       "      <th>7</th>\n",
       "      <td>GHCND:USW00024233,SEATTLE TACOMA INTERNATIONAL...</td>\n",
       "    </tr>\n",
       "    <tr>\n",
       "      <th>8</th>\n",
       "      <td>GHCND:USW00024233,SEATTLE TACOMA INTERNATIONAL...</td>\n",
       "    </tr>\n",
       "    <tr>\n",
       "      <th>9</th>\n",
       "      <td>GHCND:USW00024233,SEATTLE TACOMA INTERNATIONAL...</td>\n",
       "    </tr>\n",
       "    <tr>\n",
       "      <th>10</th>\n",
       "      <td>GHCND:USW00024233,SEATTLE TACOMA INTERNATIONAL...</td>\n",
       "    </tr>\n",
       "    <tr>\n",
       "      <th>11</th>\n",
       "      <td>GHCND:USW00024233,SEATTLE TACOMA INTERNATIONAL...</td>\n",
       "    </tr>\n",
       "    <tr>\n",
       "      <th>12</th>\n",
       "      <td>GHCND:USW00024233,SEATTLE TACOMA INTERNATIONAL...</td>\n",
       "    </tr>\n",
       "    <tr>\n",
       "      <th>13</th>\n",
       "      <td>GHCND:USW00024233,SEATTLE TACOMA INTERNATIONAL...</td>\n",
       "    </tr>\n",
       "    <tr>\n",
       "      <th>14</th>\n",
       "      <td>GHCND:USW00024233,SEATTLE TACOMA INTERNATIONAL...</td>\n",
       "    </tr>\n",
       "    <tr>\n",
       "      <th>15</th>\n",
       "      <td>GHCND:USW00024233,SEATTLE TACOMA INTERNATIONAL...</td>\n",
       "    </tr>\n",
       "    <tr>\n",
       "      <th>16</th>\n",
       "      <td>GHCND:USW00024233,SEATTLE TACOMA INTERNATIONAL...</td>\n",
       "    </tr>\n",
       "    <tr>\n",
       "      <th>17</th>\n",
       "      <td>GHCND:USW00024233,SEATTLE TACOMA INTERNATIONAL...</td>\n",
       "    </tr>\n",
       "    <tr>\n",
       "      <th>18</th>\n",
       "      <td>GHCND:USW00024233,SEATTLE TACOMA INTERNATIONAL...</td>\n",
       "    </tr>\n",
       "    <tr>\n",
       "      <th>19</th>\n",
       "      <td>GHCND:USW00024233,SEATTLE TACOMA INTERNATIONAL...</td>\n",
       "    </tr>\n",
       "    <tr>\n",
       "      <th>20</th>\n",
       "      <td>GHCND:USW00024233,SEATTLE TACOMA INTERNATIONAL...</td>\n",
       "    </tr>\n",
       "    <tr>\n",
       "      <th>21</th>\n",
       "      <td>GHCND:USW00024233,SEATTLE TACOMA INTERNATIONAL...</td>\n",
       "    </tr>\n",
       "    <tr>\n",
       "      <th>22</th>\n",
       "      <td>GHCND:USW00024233,SEATTLE TACOMA INTERNATIONAL...</td>\n",
       "    </tr>\n",
       "    <tr>\n",
       "      <th>23</th>\n",
       "      <td>GHCND:USW00024233,SEATTLE TACOMA INTERNATIONAL...</td>\n",
       "    </tr>\n",
       "    <tr>\n",
       "      <th>24</th>\n",
       "      <td>GHCND:USW00024233,SEATTLE TACOMA INTERNATIONAL...</td>\n",
       "    </tr>\n",
       "    <tr>\n",
       "      <th>25</th>\n",
       "      <td>GHCND:USW00024233,SEATTLE TACOMA INTERNATIONAL...</td>\n",
       "    </tr>\n",
       "    <tr>\n",
       "      <th>26</th>\n",
       "      <td>GHCND:USW00024233,SEATTLE TACOMA INTERNATIONAL...</td>\n",
       "    </tr>\n",
       "    <tr>\n",
       "      <th>27</th>\n",
       "      <td>GHCND:USW00024233,SEATTLE TACOMA INTERNATIONAL...</td>\n",
       "    </tr>\n",
       "    <tr>\n",
       "      <th>28</th>\n",
       "      <td>GHCND:USW00024233,SEATTLE TACOMA INTERNATIONAL...</td>\n",
       "    </tr>\n",
       "    <tr>\n",
       "      <th>29</th>\n",
       "      <td>GHCND:USW00024233,SEATTLE TACOMA INTERNATIONAL...</td>\n",
       "    </tr>\n",
       "    <tr>\n",
       "      <th>...</th>\n",
       "      <td>...</td>\n",
       "    </tr>\n",
       "    <tr>\n",
       "      <th>335</th>\n",
       "      <td>GHCND:USW00024233,SEATTLE TACOMA INTERNATIONAL...</td>\n",
       "    </tr>\n",
       "    <tr>\n",
       "      <th>336</th>\n",
       "      <td>GHCND:USW00024233,SEATTLE TACOMA INTERNATIONAL...</td>\n",
       "    </tr>\n",
       "    <tr>\n",
       "      <th>337</th>\n",
       "      <td>GHCND:USW00024233,SEATTLE TACOMA INTERNATIONAL...</td>\n",
       "    </tr>\n",
       "    <tr>\n",
       "      <th>338</th>\n",
       "      <td>GHCND:USW00024233,SEATTLE TACOMA INTERNATIONAL...</td>\n",
       "    </tr>\n",
       "    <tr>\n",
       "      <th>339</th>\n",
       "      <td>GHCND:USW00024233,SEATTLE TACOMA INTERNATIONAL...</td>\n",
       "    </tr>\n",
       "    <tr>\n",
       "      <th>340</th>\n",
       "      <td>GHCND:USW00024233,SEATTLE TACOMA INTERNATIONAL...</td>\n",
       "    </tr>\n",
       "    <tr>\n",
       "      <th>341</th>\n",
       "      <td>GHCND:USW00024233,SEATTLE TACOMA INTERNATIONAL...</td>\n",
       "    </tr>\n",
       "    <tr>\n",
       "      <th>342</th>\n",
       "      <td>GHCND:USW00024233,SEATTLE TACOMA INTERNATIONAL...</td>\n",
       "    </tr>\n",
       "    <tr>\n",
       "      <th>343</th>\n",
       "      <td>GHCND:USW00024233,SEATTLE TACOMA INTERNATIONAL...</td>\n",
       "    </tr>\n",
       "    <tr>\n",
       "      <th>344</th>\n",
       "      <td>GHCND:USW00024233,SEATTLE TACOMA INTERNATIONAL...</td>\n",
       "    </tr>\n",
       "    <tr>\n",
       "      <th>345</th>\n",
       "      <td>GHCND:USW00024233,SEATTLE TACOMA INTERNATIONAL...</td>\n",
       "    </tr>\n",
       "    <tr>\n",
       "      <th>346</th>\n",
       "      <td>GHCND:USW00024233,SEATTLE TACOMA INTERNATIONAL...</td>\n",
       "    </tr>\n",
       "    <tr>\n",
       "      <th>347</th>\n",
       "      <td>GHCND:USW00024233,SEATTLE TACOMA INTERNATIONAL...</td>\n",
       "    </tr>\n",
       "    <tr>\n",
       "      <th>348</th>\n",
       "      <td>GHCND:USW00024233,SEATTLE TACOMA INTERNATIONAL...</td>\n",
       "    </tr>\n",
       "    <tr>\n",
       "      <th>349</th>\n",
       "      <td>GHCND:USW00024233,SEATTLE TACOMA INTERNATIONAL...</td>\n",
       "    </tr>\n",
       "    <tr>\n",
       "      <th>350</th>\n",
       "      <td>GHCND:USW00024233,SEATTLE TACOMA INTERNATIONAL...</td>\n",
       "    </tr>\n",
       "    <tr>\n",
       "      <th>351</th>\n",
       "      <td>GHCND:USW00024233,SEATTLE TACOMA INTERNATIONAL...</td>\n",
       "    </tr>\n",
       "    <tr>\n",
       "      <th>352</th>\n",
       "      <td>GHCND:USW00024233,SEATTLE TACOMA INTERNATIONAL...</td>\n",
       "    </tr>\n",
       "    <tr>\n",
       "      <th>353</th>\n",
       "      <td>GHCND:USW00024233,SEATTLE TACOMA INTERNATIONAL...</td>\n",
       "    </tr>\n",
       "    <tr>\n",
       "      <th>354</th>\n",
       "      <td>GHCND:USW00024233,SEATTLE TACOMA INTERNATIONAL...</td>\n",
       "    </tr>\n",
       "    <tr>\n",
       "      <th>355</th>\n",
       "      <td>GHCND:USW00024233,SEATTLE TACOMA INTERNATIONAL...</td>\n",
       "    </tr>\n",
       "    <tr>\n",
       "      <th>356</th>\n",
       "      <td>GHCND:USW00024233,SEATTLE TACOMA INTERNATIONAL...</td>\n",
       "    </tr>\n",
       "    <tr>\n",
       "      <th>357</th>\n",
       "      <td>GHCND:USW00024233,SEATTLE TACOMA INTERNATIONAL...</td>\n",
       "    </tr>\n",
       "    <tr>\n",
       "      <th>358</th>\n",
       "      <td>GHCND:USW00024233,SEATTLE TACOMA INTERNATIONAL...</td>\n",
       "    </tr>\n",
       "    <tr>\n",
       "      <th>359</th>\n",
       "      <td>GHCND:USW00024233,SEATTLE TACOMA INTERNATIONAL...</td>\n",
       "    </tr>\n",
       "    <tr>\n",
       "      <th>360</th>\n",
       "      <td>GHCND:USW00024233,SEATTLE TACOMA INTERNATIONAL...</td>\n",
       "    </tr>\n",
       "    <tr>\n",
       "      <th>361</th>\n",
       "      <td>GHCND:USW00024233,SEATTLE TACOMA INTERNATIONAL...</td>\n",
       "    </tr>\n",
       "    <tr>\n",
       "      <th>362</th>\n",
       "      <td>GHCND:USW00024233,SEATTLE TACOMA INTERNATIONAL...</td>\n",
       "    </tr>\n",
       "    <tr>\n",
       "      <th>363</th>\n",
       "      <td>GHCND:USW00024233,SEATTLE TACOMA INTERNATIONAL...</td>\n",
       "    </tr>\n",
       "    <tr>\n",
       "      <th>364</th>\n",
       "      <td>GHCND:USW00024233,SEATTLE TACOMA INTERNATIONAL...</td>\n",
       "    </tr>\n",
       "  </tbody>\n",
       "</table>\n",
       "<p>365 rows × 1 columns</p>\n",
       "</div>"
      ],
      "text/plain": [
       "    STATION,STATION_NAME,DATE,PRCP,SNWD,SNOW,TMAX,TMIN,AWND,WDF2,WDF5,WSF2,WSF5,WT01,WT05,WT02,WT03\n",
       "0    GHCND:USW00024233,SEATTLE TACOMA INTERNATIONAL...                                             \n",
       "1    GHCND:USW00024233,SEATTLE TACOMA INTERNATIONAL...                                             \n",
       "2    GHCND:USW00024233,SEATTLE TACOMA INTERNATIONAL...                                             \n",
       "3    GHCND:USW00024233,SEATTLE TACOMA INTERNATIONAL...                                             \n",
       "4    GHCND:USW00024233,SEATTLE TACOMA INTERNATIONAL...                                             \n",
       "5    GHCND:USW00024233,SEATTLE TACOMA INTERNATIONAL...                                             \n",
       "6    GHCND:USW00024233,SEATTLE TACOMA INTERNATIONAL...                                             \n",
       "7    GHCND:USW00024233,SEATTLE TACOMA INTERNATIONAL...                                             \n",
       "8    GHCND:USW00024233,SEATTLE TACOMA INTERNATIONAL...                                             \n",
       "9    GHCND:USW00024233,SEATTLE TACOMA INTERNATIONAL...                                             \n",
       "10   GHCND:USW00024233,SEATTLE TACOMA INTERNATIONAL...                                             \n",
       "11   GHCND:USW00024233,SEATTLE TACOMA INTERNATIONAL...                                             \n",
       "12   GHCND:USW00024233,SEATTLE TACOMA INTERNATIONAL...                                             \n",
       "13   GHCND:USW00024233,SEATTLE TACOMA INTERNATIONAL...                                             \n",
       "14   GHCND:USW00024233,SEATTLE TACOMA INTERNATIONAL...                                             \n",
       "15   GHCND:USW00024233,SEATTLE TACOMA INTERNATIONAL...                                             \n",
       "16   GHCND:USW00024233,SEATTLE TACOMA INTERNATIONAL...                                             \n",
       "17   GHCND:USW00024233,SEATTLE TACOMA INTERNATIONAL...                                             \n",
       "18   GHCND:USW00024233,SEATTLE TACOMA INTERNATIONAL...                                             \n",
       "19   GHCND:USW00024233,SEATTLE TACOMA INTERNATIONAL...                                             \n",
       "20   GHCND:USW00024233,SEATTLE TACOMA INTERNATIONAL...                                             \n",
       "21   GHCND:USW00024233,SEATTLE TACOMA INTERNATIONAL...                                             \n",
       "22   GHCND:USW00024233,SEATTLE TACOMA INTERNATIONAL...                                             \n",
       "23   GHCND:USW00024233,SEATTLE TACOMA INTERNATIONAL...                                             \n",
       "24   GHCND:USW00024233,SEATTLE TACOMA INTERNATIONAL...                                             \n",
       "25   GHCND:USW00024233,SEATTLE TACOMA INTERNATIONAL...                                             \n",
       "26   GHCND:USW00024233,SEATTLE TACOMA INTERNATIONAL...                                             \n",
       "27   GHCND:USW00024233,SEATTLE TACOMA INTERNATIONAL...                                             \n",
       "28   GHCND:USW00024233,SEATTLE TACOMA INTERNATIONAL...                                             \n",
       "29   GHCND:USW00024233,SEATTLE TACOMA INTERNATIONAL...                                             \n",
       "..                                                 ...                                             \n",
       "335  GHCND:USW00024233,SEATTLE TACOMA INTERNATIONAL...                                             \n",
       "336  GHCND:USW00024233,SEATTLE TACOMA INTERNATIONAL...                                             \n",
       "337  GHCND:USW00024233,SEATTLE TACOMA INTERNATIONAL...                                             \n",
       "338  GHCND:USW00024233,SEATTLE TACOMA INTERNATIONAL...                                             \n",
       "339  GHCND:USW00024233,SEATTLE TACOMA INTERNATIONAL...                                             \n",
       "340  GHCND:USW00024233,SEATTLE TACOMA INTERNATIONAL...                                             \n",
       "341  GHCND:USW00024233,SEATTLE TACOMA INTERNATIONAL...                                             \n",
       "342  GHCND:USW00024233,SEATTLE TACOMA INTERNATIONAL...                                             \n",
       "343  GHCND:USW00024233,SEATTLE TACOMA INTERNATIONAL...                                             \n",
       "344  GHCND:USW00024233,SEATTLE TACOMA INTERNATIONAL...                                             \n",
       "345  GHCND:USW00024233,SEATTLE TACOMA INTERNATIONAL...                                             \n",
       "346  GHCND:USW00024233,SEATTLE TACOMA INTERNATIONAL...                                             \n",
       "347  GHCND:USW00024233,SEATTLE TACOMA INTERNATIONAL...                                             \n",
       "348  GHCND:USW00024233,SEATTLE TACOMA INTERNATIONAL...                                             \n",
       "349  GHCND:USW00024233,SEATTLE TACOMA INTERNATIONAL...                                             \n",
       "350  GHCND:USW00024233,SEATTLE TACOMA INTERNATIONAL...                                             \n",
       "351  GHCND:USW00024233,SEATTLE TACOMA INTERNATIONAL...                                             \n",
       "352  GHCND:USW00024233,SEATTLE TACOMA INTERNATIONAL...                                             \n",
       "353  GHCND:USW00024233,SEATTLE TACOMA INTERNATIONAL...                                             \n",
       "354  GHCND:USW00024233,SEATTLE TACOMA INTERNATIONAL...                                             \n",
       "355  GHCND:USW00024233,SEATTLE TACOMA INTERNATIONAL...                                             \n",
       "356  GHCND:USW00024233,SEATTLE TACOMA INTERNATIONAL...                                             \n",
       "357  GHCND:USW00024233,SEATTLE TACOMA INTERNATIONAL...                                             \n",
       "358  GHCND:USW00024233,SEATTLE TACOMA INTERNATIONAL...                                             \n",
       "359  GHCND:USW00024233,SEATTLE TACOMA INTERNATIONAL...                                             \n",
       "360  GHCND:USW00024233,SEATTLE TACOMA INTERNATIONAL...                                             \n",
       "361  GHCND:USW00024233,SEATTLE TACOMA INTERNATIONAL...                                             \n",
       "362  GHCND:USW00024233,SEATTLE TACOMA INTERNATIONAL...                                             \n",
       "363  GHCND:USW00024233,SEATTLE TACOMA INTERNATIONAL...                                             \n",
       "364  GHCND:USW00024233,SEATTLE TACOMA INTERNATIONAL...                                             \n",
       "\n",
       "[365 rows x 1 columns]"
      ]
     },
     "execution_count": 12,
     "metadata": {},
     "output_type": "execute_result"
    }
   ],
   "source": [
    "import numpy as np \n",
    "import pandas as pd\n",
    "# use pandas to extract rainfall inches as a numpy array\n",
    "rainfall = pd.read_csv('c:\\\\users\\\\Mannawar Hussain\\\\Desktop\\\\pandas\\\\Seattle2014.csv')\n",
    "rainfall"
   ]
  },
  {
   "cell_type": "code",
   "execution_count": 14,
   "metadata": {},
   "outputs": [],
   "source": [
    "%matplotlib inline\n",
    "import matplotlib.pyplot as plt\n",
    "import seaborn; seaborn.set ()\n",
    "inches = rainfall / 254\n",
    "inches.shape"
   ]
  },
  {
   "cell_type": "code",
   "execution_count": null,
   "metadata": {},
   "outputs": [],
   "source": [
    "inches = rainfall / 254\n",
    "inches.shape\n",
    "plt.hist (inches, 40);\n"
   ]
  },
  {
   "cell_type": "code",
   "execution_count": null,
   "metadata": {},
   "outputs": [],
   "source": [
    "import numpy as np\n",
    "import pandas as pd\n",
    "%matplotlib inline\n",
    "import matplotlib.pyplot as plt\n",
    "x = np.array ([1, 2, 3, 4, 5])\n",
    "x < 3"
   ]
  },
  {
   "cell_type": "code",
   "execution_count": null,
   "metadata": {},
   "outputs": [],
   "source": [
    "x > 3"
   ]
  },
  {
   "cell_type": "code",
   "execution_count": null,
   "metadata": {},
   "outputs": [],
   "source": [
    "x <= 3"
   ]
  },
  {
   "cell_type": "code",
   "execution_count": null,
   "metadata": {},
   "outputs": [],
   "source": [
    "x >= 3"
   ]
  },
  {
   "cell_type": "code",
   "execution_count": null,
   "metadata": {},
   "outputs": [],
   "source": [
    "x != 3 # not equal"
   ]
  },
  {
   "cell_type": "code",
   "execution_count": null,
   "metadata": {},
   "outputs": [],
   "source": [
    "rng = np.random.RandomState(0)\n",
    "x = rng.randint (10, size = (3, 4))\n",
    "x"
   ]
  },
  {
   "cell_type": "code",
   "execution_count": null,
   "metadata": {},
   "outputs": [],
   "source": [
    "x < 6"
   ]
  },
  {
   "cell_type": "code",
   "execution_count": null,
   "metadata": {},
   "outputs": [],
   "source": [
    "print (x)"
   ]
  },
  {
   "cell_type": "code",
   "execution_count": null,
   "metadata": {},
   "outputs": [],
   "source": [
    "np.count_nonzero (x < 6)"
   ]
  },
  {
   "cell_type": "code",
   "execution_count": null,
   "metadata": {},
   "outputs": [],
   "source": [
    "np.sum (x < 6)"
   ]
  },
  {
   "cell_type": "code",
   "execution_count": null,
   "metadata": {},
   "outputs": [],
   "source": [
    "np.sum (x < 6, axis = 1)"
   ]
  },
  {
   "cell_type": "code",
   "execution_count": null,
   "metadata": {},
   "outputs": [],
   "source": [
    "np.sum (x < 6, axis = 1)"
   ]
  },
  {
   "cell_type": "code",
   "execution_count": null,
   "metadata": {},
   "outputs": [],
   "source": [
    "np.any (x > 8)"
   ]
  },
  {
   "cell_type": "code",
   "execution_count": null,
   "metadata": {},
   "outputs": [],
   "source": [
    "np.any (x <0)"
   ]
  },
  {
   "cell_type": "code",
   "execution_count": null,
   "metadata": {},
   "outputs": [],
   "source": [
    "np.all (x < 10)"
   ]
  },
  {
   "cell_type": "code",
   "execution_count": null,
   "metadata": {},
   "outputs": [],
   "source": [
    "np.all (x == 6)"
   ]
  },
  {
   "cell_type": "code",
   "execution_count": null,
   "metadata": {},
   "outputs": [],
   "source": [
    "#are all values in each row less than 8?\n",
    "np.all (x < 8, axis = 1)"
   ]
  },
  {
   "cell_type": "code",
   "execution_count": null,
   "metadata": {},
   "outputs": [],
   "source": [
    "np.sum((inches > 0.5) & (inches < 1))"
   ]
  },
  {
   "cell_type": "code",
   "execution_count": 4,
   "metadata": {},
   "outputs": [
    {
     "ename": "NameError",
     "evalue": "name 'x' is not defined",
     "output_type": "error",
     "traceback": [
      "\u001b[1;31m---------------------------------------------------------------------------\u001b[0m",
      "\u001b[1;31mNameError\u001b[0m                                 Traceback (most recent call last)",
      "\u001b[1;32m<ipython-input-4-6fcf9dfbd479>\u001b[0m in \u001b[0;36m<module>\u001b[1;34m\u001b[0m\n\u001b[1;32m----> 1\u001b[1;33m \u001b[0mx\u001b[0m\u001b[1;33m\u001b[0m\u001b[1;33m\u001b[0m\u001b[0m\n\u001b[0m",
      "\u001b[1;31mNameError\u001b[0m: name 'x' is not defined"
     ]
    }
   ],
   "source": [
    "x"
   ]
  },
  {
   "cell_type": "code",
   "execution_count": 5,
   "metadata": {},
   "outputs": [],
   "source": [
    "import numpy as np\n",
    "import pandas as pd"
   ]
  },
  {
   "cell_type": "code",
   "execution_count": 6,
   "metadata": {},
   "outputs": [],
   "source": [
    "%matplotlib inline\n",
    "import matplotlib.pyplot as plt\n",
    "import seaborn; seaborn.set()"
   ]
  },
  {
   "cell_type": "code",
   "execution_count": 10,
   "metadata": {},
   "outputs": [
    {
     "ename": "NameError",
     "evalue": "name 'inches' is not defined",
     "output_type": "error",
     "traceback": [
      "\u001b[1;31m---------------------------------------------------------------------------\u001b[0m",
      "\u001b[1;31mNameError\u001b[0m                                 Traceback (most recent call last)",
      "\u001b[1;32m<ipython-input-10-b0336523a243>\u001b[0m in \u001b[0;36m<module>\u001b[1;34m\u001b[0m\n\u001b[1;32m----> 1\u001b[1;33m \u001b[0mplt\u001b[0m\u001b[1;33m.\u001b[0m\u001b[0mhist\u001b[0m \u001b[1;33m(\u001b[0m\u001b[0minches\u001b[0m\u001b[1;33m,\u001b[0m \u001b[1;36m40\u001b[0m\u001b[1;33m)\u001b[0m\u001b[1;33m;\u001b[0m\u001b[1;33m\u001b[0m\u001b[1;33m\u001b[0m\u001b[0m\n\u001b[0m",
      "\u001b[1;31mNameError\u001b[0m: name 'inches' is not defined"
     ]
    }
   ],
   "source": [
    "plt.hist (inches, 40);"
   ]
  },
  {
   "cell_type": "code",
   "execution_count": 9,
   "metadata": {},
   "outputs": [],
   "source": [
    "x = np.array ([1, 2, 3, 4, 5])"
   ]
  },
  {
   "cell_type": "code",
   "execution_count": 15,
   "metadata": {},
   "outputs": [
    {
     "data": {
      "text/plain": [
       "(True, False)"
      ]
     },
     "execution_count": 15,
     "metadata": {},
     "output_type": "execute_result"
    }
   ],
   "source": [
    "bool (42), bool (0)"
   ]
  },
  {
   "cell_type": "code",
   "execution_count": 16,
   "metadata": {},
   "outputs": [
    {
     "data": {
      "text/plain": [
       "False"
      ]
     },
     "execution_count": 16,
     "metadata": {},
     "output_type": "execute_result"
    }
   ],
   "source": [
    "bool (42 and 0)"
   ]
  },
  {
   "cell_type": "code",
   "execution_count": 17,
   "metadata": {},
   "outputs": [
    {
     "data": {
      "text/plain": [
       "True"
      ]
     },
     "execution_count": 17,
     "metadata": {},
     "output_type": "execute_result"
    }
   ],
   "source": [
    "bool (42 or 0)"
   ]
  },
  {
   "cell_type": "code",
   "execution_count": 18,
   "metadata": {},
   "outputs": [
    {
     "data": {
      "text/plain": [
       "'0b101010'"
      ]
     },
     "execution_count": 18,
     "metadata": {},
     "output_type": "execute_result"
    }
   ],
   "source": [
    "bin (42)"
   ]
  },
  {
   "cell_type": "code",
   "execution_count": 19,
   "metadata": {},
   "outputs": [
    {
     "data": {
      "text/plain": [
       "array([ True,  True,  True, False,  True,  True])"
      ]
     },
     "execution_count": 19,
     "metadata": {},
     "output_type": "execute_result"
    }
   ],
   "source": [
    "A = np.array ([1, 0, 1, 0, 1, 0], dtype = bool)\n",
    "B = np.array ([1, 1, 1, 0, 1, 1], dtype = bool)\n",
    "A | B"
   ]
  },
  {
   "cell_type": "code",
   "execution_count": 20,
   "metadata": {},
   "outputs": [
    {
     "ename": "ValueError",
     "evalue": "The truth value of an array with more than one element is ambiguous. Use a.any() or a.all()",
     "output_type": "error",
     "traceback": [
      "\u001b[1;31m---------------------------------------------------------------------------\u001b[0m",
      "\u001b[1;31mValueError\u001b[0m                                Traceback (most recent call last)",
      "\u001b[1;32m<ipython-input-20-ea2c97d9d9ee>\u001b[0m in \u001b[0;36m<module>\u001b[1;34m\u001b[0m\n\u001b[1;32m----> 1\u001b[1;33m \u001b[0mA\u001b[0m \u001b[1;32mor\u001b[0m \u001b[0mB\u001b[0m\u001b[1;33m\u001b[0m\u001b[1;33m\u001b[0m\u001b[0m\n\u001b[0m",
      "\u001b[1;31mValueError\u001b[0m: The truth value of an array with more than one element is ambiguous. Use a.any() or a.all()"
     ]
    }
   ],
   "source": [
    "A or B"
   ]
  },
  {
   "cell_type": "code",
   "execution_count": 1,
   "metadata": {},
   "outputs": [
    {
     "ename": "ValueError",
     "evalue": "not enough values to unpack (expected 4, got 3)",
     "output_type": "error",
     "traceback": [
      "\u001b[1;31m---------------------------------------------------------------------------\u001b[0m",
      "\u001b[1;31mValueError\u001b[0m                                Traceback (most recent call last)",
      "\u001b[1;32m<ipython-input-1-33c1f4adef1c>\u001b[0m in \u001b[0;36m<module>\u001b[1;34m\u001b[0m\n\u001b[0;32m      1\u001b[0m \u001b[1;32mfrom\u001b[0m \u001b[0msys\u001b[0m \u001b[1;32mimport\u001b[0m \u001b[0margv\u001b[0m\u001b[1;33m\u001b[0m\u001b[1;33m\u001b[0m\u001b[0m\n\u001b[0;32m      2\u001b[0m \u001b[1;33m\u001b[0m\u001b[0m\n\u001b[1;32m----> 3\u001b[1;33m \u001b[0mscript\u001b[0m\u001b[1;33m,\u001b[0m \u001b[0mfirst\u001b[0m\u001b[1;33m,\u001b[0m \u001b[0msecond\u001b[0m\u001b[1;33m,\u001b[0m \u001b[0mthird\u001b[0m \u001b[1;33m=\u001b[0m \u001b[0margv\u001b[0m\u001b[1;33m\u001b[0m\u001b[1;33m\u001b[0m\u001b[0m\n\u001b[0m\u001b[0;32m      4\u001b[0m \u001b[1;33m\u001b[0m\u001b[0m\n\u001b[0;32m      5\u001b[0m \u001b[0mprint\u001b[0m \u001b[1;33m(\u001b[0m\u001b[1;34m\"The script is called:\"\u001b[0m\u001b[1;33m,\u001b[0m \u001b[0mscript\u001b[0m\u001b[1;33m)\u001b[0m\u001b[1;33m\u001b[0m\u001b[1;33m\u001b[0m\u001b[0m\n",
      "\u001b[1;31mValueError\u001b[0m: not enough values to unpack (expected 4, got 3)"
     ]
    }
   ],
   "source": [
    "from sys import argv\n",
    "\n",
    "script, first, second, third = argv\n",
    "\n",
    "print (\"The script is called:\", script)\n",
    "print (\"Your first variable is:\", first)\n",
    "print (\"Your second variable is:\", second)\n",
    "print (\"Your third variable is:\", third)\n"
   ]
  },
  {
   "cell_type": "code",
   "execution_count": null,
   "metadata": {},
   "outputs": [],
   "source": []
  }
 ],
 "metadata": {
  "kernelspec": {
   "display_name": "Python 3",
   "language": "python",
   "name": "python3"
  },
  "language_info": {
   "codemirror_mode": {
    "name": "ipython",
    "version": 3
   },
   "file_extension": ".py",
   "mimetype": "text/x-python",
   "name": "python",
   "nbconvert_exporter": "python",
   "pygments_lexer": "ipython3",
   "version": "3.7.1"
  }
 },
 "nbformat": 4,
 "nbformat_minor": 2
}
