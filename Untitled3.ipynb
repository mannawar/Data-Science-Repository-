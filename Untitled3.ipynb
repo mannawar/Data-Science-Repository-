{
 "cells": [
  {
   "cell_type": "code",
   "execution_count": null,
   "metadata": {},
   "outputs": [],
   "source": [
    "print (\"How old are you?\", end = ' ')\n",
    "age = input (33)\n",
    "print (\"How tall are you?\", end = ' ')\n",
    "height = input (5'11\")\n",
    "print (\"How much do you weigh?\", end = ' ')\n",
    "weight = input ()\n",
    "\n",
    "print (f\"So, you're {age} old, {height} tall and {weight} heavy\")\n"
   ]
  },
  {
   "cell_type": "code",
   "execution_count": null,
   "metadata": {},
   "outputs": [],
   "source": [
    "print (\"How old are you?\", end=' ')\n",
    "age = input ()\n",
    "print (\"How tall are you?\", end=' ')\n",
    "height = input ()\n",
    "print (\"How much do you weigh?\", end=' ')\n",
    "weight = input ()\n",
    "\n",
    "print (f\"So, you're {age} old, {height} tall and {weight} heavy\")"
   ]
  },
  {
   "cell_type": "code",
   "execution_count": null,
   "metadata": {},
   "outputs": [],
   "source": []
  },
  {
   "cell_type": "code",
   "execution_count": null,
   "metadata": {},
   "outputs": [],
   "source": []
  },
  {
   "cell_type": "code",
   "execution_count": null,
   "metadata": {},
   "outputs": [],
   "source": []
  }
 ],
 "metadata": {
  "kernelspec": {
   "display_name": "Python 3",
   "language": "python",
   "name": "python3"
  },
  "language_info": {
   "codemirror_mode": {
    "name": "ipython",
    "version": 3
   },
   "file_extension": ".py",
   "mimetype": "text/x-python",
   "name": "python",
   "nbconvert_exporter": "python",
   "pygments_lexer": "ipython3",
   "version": "3.7.1"
  }
 },
 "nbformat": 4,
 "nbformat_minor": 2
}
